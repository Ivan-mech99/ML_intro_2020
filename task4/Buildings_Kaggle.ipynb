{
 "cells": [
  {
   "cell_type": "code",
   "execution_count": 19,
   "metadata": {},
   "outputs": [],
   "source": [
    "import pandas as pd\n",
    "import numpy as np\n",
    "import matplotlib.pyplot as plt\n",
    "from sklearn.model_selection import cross_val_score\n",
    "from sklearn.model_selection import KFold\n",
    "from sklearn.metrics import mean_absolute_error\n",
    "import sklearn\n",
    "pd.set_option('display.max_columns', 1000)"
   ]
  },
  {
   "cell_type": "code",
   "execution_count": 20,
   "metadata": {},
   "outputs": [],
   "source": [
    "train = pd.read_csv('Train.csv', sep=',')"
   ]
  },
  {
   "cell_type": "code",
   "execution_count": 21,
   "metadata": {},
   "outputs": [],
   "source": [
    "train['year'] = train['date'].map(lambda x: x[:4])\n",
    "train['month'] = train['date'].map(lambda x: abs(int(x[-2:])))"
   ]
  },
  {
   "cell_type": "code",
   "execution_count": 22,
   "metadata": {},
   "outputs": [
    {
     "data": {
      "text/html": [
       "<div>\n",
       "<style scoped>\n",
       "    .dataframe tbody tr th:only-of-type {\n",
       "        vertical-align: middle;\n",
       "    }\n",
       "\n",
       "    .dataframe tbody tr th {\n",
       "        vertical-align: top;\n",
       "    }\n",
       "\n",
       "    .dataframe thead th {\n",
       "        text-align: right;\n",
       "    }\n",
       "</style>\n",
       "<table border=\"1\" class=\"dataframe\">\n",
       "  <thead>\n",
       "    <tr style=\"text-align: right;\">\n",
       "      <th></th>\n",
       "      <th>id</th>\n",
       "      <th>date</th>\n",
       "      <th>street_id</th>\n",
       "      <th>build_tech</th>\n",
       "      <th>floor</th>\n",
       "      <th>area</th>\n",
       "      <th>rooms</th>\n",
       "      <th>balcon</th>\n",
       "      <th>metro_dist</th>\n",
       "      <th>g_lift</th>\n",
       "      <th>n_photos</th>\n",
       "      <th>kw1</th>\n",
       "      <th>kw2</th>\n",
       "      <th>kw3</th>\n",
       "      <th>kw4</th>\n",
       "      <th>kw5</th>\n",
       "      <th>kw6</th>\n",
       "      <th>kw7</th>\n",
       "      <th>kw8</th>\n",
       "      <th>kw9</th>\n",
       "      <th>kw10</th>\n",
       "      <th>kw11</th>\n",
       "      <th>kw12</th>\n",
       "      <th>kw13</th>\n",
       "      <th>price</th>\n",
       "      <th>year</th>\n",
       "      <th>month</th>\n",
       "    </tr>\n",
       "  </thead>\n",
       "  <tbody>\n",
       "    <tr>\n",
       "      <th>0</th>\n",
       "      <td>0</td>\n",
       "      <td>2011-1</td>\n",
       "      <td>616</td>\n",
       "      <td>0.0</td>\n",
       "      <td>4</td>\n",
       "      <td>43</td>\n",
       "      <td>2</td>\n",
       "      <td>0</td>\n",
       "      <td>30.0</td>\n",
       "      <td>1.0</td>\n",
       "      <td>1</td>\n",
       "      <td>0</td>\n",
       "      <td>1</td>\n",
       "      <td>0</td>\n",
       "      <td>0</td>\n",
       "      <td>0</td>\n",
       "      <td>0</td>\n",
       "      <td>0</td>\n",
       "      <td>0</td>\n",
       "      <td>0</td>\n",
       "      <td>0</td>\n",
       "      <td>0</td>\n",
       "      <td>0</td>\n",
       "      <td>0</td>\n",
       "      <td>1738000</td>\n",
       "      <td>2011</td>\n",
       "      <td>1</td>\n",
       "    </tr>\n",
       "    <tr>\n",
       "      <th>1</th>\n",
       "      <td>1</td>\n",
       "      <td>2011-1</td>\n",
       "      <td>112</td>\n",
       "      <td>0.0</td>\n",
       "      <td>3</td>\n",
       "      <td>33</td>\n",
       "      <td>1</td>\n",
       "      <td>0</td>\n",
       "      <td>15.0</td>\n",
       "      <td>1.0</td>\n",
       "      <td>2</td>\n",
       "      <td>0</td>\n",
       "      <td>1</td>\n",
       "      <td>0</td>\n",
       "      <td>0</td>\n",
       "      <td>0</td>\n",
       "      <td>0</td>\n",
       "      <td>0</td>\n",
       "      <td>0</td>\n",
       "      <td>0</td>\n",
       "      <td>0</td>\n",
       "      <td>0</td>\n",
       "      <td>0</td>\n",
       "      <td>0</td>\n",
       "      <td>1169000</td>\n",
       "      <td>2011</td>\n",
       "      <td>1</td>\n",
       "    </tr>\n",
       "    <tr>\n",
       "      <th>2</th>\n",
       "      <td>2</td>\n",
       "      <td>2011-1</td>\n",
       "      <td>230</td>\n",
       "      <td>NaN</td>\n",
       "      <td>9</td>\n",
       "      <td>34</td>\n",
       "      <td>1</td>\n",
       "      <td>0</td>\n",
       "      <td>25.0</td>\n",
       "      <td>NaN</td>\n",
       "      <td>4</td>\n",
       "      <td>0</td>\n",
       "      <td>1</td>\n",
       "      <td>0</td>\n",
       "      <td>0</td>\n",
       "      <td>0</td>\n",
       "      <td>0</td>\n",
       "      <td>0</td>\n",
       "      <td>0</td>\n",
       "      <td>0</td>\n",
       "      <td>0</td>\n",
       "      <td>0</td>\n",
       "      <td>0</td>\n",
       "      <td>0</td>\n",
       "      <td>2821000</td>\n",
       "      <td>2011</td>\n",
       "      <td>1</td>\n",
       "    </tr>\n",
       "    <tr>\n",
       "      <th>3</th>\n",
       "      <td>3</td>\n",
       "      <td>2011-1</td>\n",
       "      <td>302</td>\n",
       "      <td>1.0</td>\n",
       "      <td>4</td>\n",
       "      <td>60</td>\n",
       "      <td>3</td>\n",
       "      <td>0</td>\n",
       "      <td>15.0</td>\n",
       "      <td>0.0</td>\n",
       "      <td>2</td>\n",
       "      <td>1</td>\n",
       "      <td>1</td>\n",
       "      <td>0</td>\n",
       "      <td>0</td>\n",
       "      <td>0</td>\n",
       "      <td>0</td>\n",
       "      <td>0</td>\n",
       "      <td>0</td>\n",
       "      <td>0</td>\n",
       "      <td>0</td>\n",
       "      <td>0</td>\n",
       "      <td>0</td>\n",
       "      <td>0</td>\n",
       "      <td>5714000</td>\n",
       "      <td>2011</td>\n",
       "      <td>1</td>\n",
       "    </tr>\n",
       "    <tr>\n",
       "      <th>4</th>\n",
       "      <td>4</td>\n",
       "      <td>2011-1</td>\n",
       "      <td>578</td>\n",
       "      <td>0.0</td>\n",
       "      <td>3</td>\n",
       "      <td>49</td>\n",
       "      <td>2</td>\n",
       "      <td>0</td>\n",
       "      <td>30.0</td>\n",
       "      <td>NaN</td>\n",
       "      <td>2</td>\n",
       "      <td>0</td>\n",
       "      <td>1</td>\n",
       "      <td>0</td>\n",
       "      <td>0</td>\n",
       "      <td>0</td>\n",
       "      <td>0</td>\n",
       "      <td>0</td>\n",
       "      <td>0</td>\n",
       "      <td>0</td>\n",
       "      <td>0</td>\n",
       "      <td>0</td>\n",
       "      <td>0</td>\n",
       "      <td>0</td>\n",
       "      <td>1660000</td>\n",
       "      <td>2011</td>\n",
       "      <td>1</td>\n",
       "    </tr>\n",
       "  </tbody>\n",
       "</table>\n",
       "</div>"
      ],
      "text/plain": [
       "   id    date  street_id  build_tech  floor  area  rooms  balcon  metro_dist  \\\n",
       "0   0  2011-1        616         0.0      4    43      2       0        30.0   \n",
       "1   1  2011-1        112         0.0      3    33      1       0        15.0   \n",
       "2   2  2011-1        230         NaN      9    34      1       0        25.0   \n",
       "3   3  2011-1        302         1.0      4    60      3       0        15.0   \n",
       "4   4  2011-1        578         0.0      3    49      2       0        30.0   \n",
       "\n",
       "   g_lift  n_photos  kw1  kw2  kw3  kw4  kw5  kw6  kw7  kw8  kw9  kw10  kw11  \\\n",
       "0     1.0         1    0    1    0    0    0    0    0    0    0     0     0   \n",
       "1     1.0         2    0    1    0    0    0    0    0    0    0     0     0   \n",
       "2     NaN         4    0    1    0    0    0    0    0    0    0     0     0   \n",
       "3     0.0         2    1    1    0    0    0    0    0    0    0     0     0   \n",
       "4     NaN         2    0    1    0    0    0    0    0    0    0     0     0   \n",
       "\n",
       "   kw12  kw13    price  year  month  \n",
       "0     0     0  1738000  2011      1  \n",
       "1     0     0  1169000  2011      1  \n",
       "2     0     0  2821000  2011      1  \n",
       "3     0     0  5714000  2011      1  \n",
       "4     0     0  1660000  2011      1  "
      ]
     },
     "execution_count": 22,
     "metadata": {},
     "output_type": "execute_result"
    }
   ],
   "source": [
    "train.head()"
   ]
  },
  {
   "cell_type": "code",
   "execution_count": 23,
   "metadata": {},
   "outputs": [
    {
     "data": {
      "text/plain": [
       "(100000, 27)"
      ]
     },
     "execution_count": 23,
     "metadata": {},
     "output_type": "execute_result"
    }
   ],
   "source": [
    "train.shape"
   ]
  },
  {
   "cell_type": "code",
   "execution_count": 24,
   "metadata": {},
   "outputs": [
    {
     "data": {
      "text/plain": [
       "672"
      ]
     },
     "execution_count": 24,
     "metadata": {},
     "output_type": "execute_result"
    }
   ],
   "source": [
    "train['street_id'].nunique()"
   ]
  },
  {
   "cell_type": "code",
   "execution_count": 25,
   "metadata": {},
   "outputs": [],
   "source": [
    "train=train.fillna(train.median())"
   ]
  },
  {
   "cell_type": "code",
   "execution_count": 26,
   "metadata": {},
   "outputs": [],
   "source": [
    "train['build_tech'] = train['build_tech'].astype(int)"
   ]
  },
  {
   "cell_type": "code",
   "execution_count": 27,
   "metadata": {},
   "outputs": [],
   "source": [
    "features = ['street_id', 'build_tech', 'floor', 'area', 'rooms',\n",
    "       'balcon', 'metro_dist', 'g_lift', 'n_photos', 'kw1', 'kw2', 'kw3',\n",
    "       'kw4', 'kw5', 'kw6', 'kw7', 'kw8', 'kw9', 'kw10', 'kw11', 'kw12',\n",
    "       'kw13', 'year', 'month']\n",
    "\n",
    "cat_features = ['street_id', 'build_tech']"
   ]
  },
  {
   "cell_type": "markdown",
   "metadata": {},
   "source": [
    "# Catboost"
   ]
  },
  {
   "cell_type": "code",
   "execution_count": 28,
   "metadata": {},
   "outputs": [],
   "source": [
    "from catboost import CatBoostRegressor, Pool, cv"
   ]
  },
  {
   "cell_type": "code",
   "execution_count": 29,
   "metadata": {},
   "outputs": [],
   "source": [
    "def cv_score(n_splits=5, params={'iterations':300,\n",
    "                                       'learning_rate':0.1,\n",
    "                                      'subsample':0.8,\n",
    "                                      'max_depth':5,\n",
    "                                      'loss_function':'MAE',\n",
    "                                      'silent':True}):\n",
    "    kf = KFold(n_splits=5, random_state=None, shuffle=False)\n",
    "    scores = list()\n",
    "    for train_index, test_index in kf.split(train[features]):\n",
    "        X_train, X_test = train.loc[train_index, features], train.loc[test_index, features]\n",
    "        y_train, y_test = train.loc[train_index, 'price'], train.loc[test_index, 'price']\n",
    "        model = CatBoostRegressor(**params)\n",
    "        model = model.fit(X_train, y_train, cat_features=cat_features)\n",
    "        cur_pred = model.predict(X_test)\n",
    "        scores.append(mean_absolute_error(y_test, cur_pred))\n",
    "    return sum(scores)/5"
   ]
  },
  {
   "cell_type": "code",
   "execution_count": 30,
   "metadata": {},
   "outputs": [],
   "source": [
    "def ct_params_proc():\n",
    "    params =({'thread_count': 8, \n",
    "             'random_seed': 241,\n",
    "             'loss_function': 'MAE',\n",
    "              'iterations': 2000,\n",
    "              'silent': True\n",
    "             }) \n",
    "    \n",
    "    params_all = [('learning_rate', [0.01, 0.03, 0.05, 0.1, 0.3, 0.5]),\n",
    "                  ('max_depth',[2,3,4,6,7,9]),\n",
    "                  ('subsample', [0.7, 0.8, 0.9, 1])\n",
    "                 ]\n",
    "    \n",
    "    result_param =[]\n",
    "    for i in params_all:\n",
    "        p= i[0]   \n",
    "        for param_value in i[1]:      \n",
    "            params[p] = param_value\n",
    "            result = []\n",
    "            cv_res = cv_score(params=params)\n",
    "            calculated = {'params': p, 'value': param_value, 'mae':cv_res}\n",
    "            result_param.append (calculated)\n",
    "            print (calculated)\n",
    "        r = pd.DataFrame(result_param)\n",
    "\n",
    "        min_mae = float(r[r.params ==p].mae.min())\n",
    "        best_param = r[(r.params ==p)&(r.mae == min_mae)].value.iloc[0]\n",
    "        \n",
    "        params[p] = best_param\n",
    "\n",
    "        print(r[r.params ==p])\n",
    "        print(params)\n",
    "    \n",
    "    \n",
    "        x = r.value[r.params==p]\n",
    "        ax1= plt.subplot()\n",
    "        ax1.plot(x, r.mae[r.params==p], color = 'red', label = 'mae')\n",
    "        ax1.grid()\n",
    "        ax1.legend(loc='lower right')\n",
    "        ax1.set_title(p)\n",
    "        plt.show()\n",
    "        \n",
    "    return params, min_mae"
   ]
  },
  {
   "cell_type": "code",
   "execution_count": 31,
   "metadata": {
    "scrolled": true
   },
   "outputs": [
    {
     "name": "stdout",
     "output_type": "stream",
     "text": [
      "{'params': 'learning_rate', 'value': 0.01, 'mae': 783345.0165227407}\n",
      "{'params': 'learning_rate', 'value': 0.03, 'mae': 684105.6512877446}\n",
      "{'params': 'learning_rate', 'value': 0.05, 'mae': 656666.2518788715}\n",
      "{'params': 'learning_rate', 'value': 0.1, 'mae': 638841.2327315675}\n",
      "{'params': 'learning_rate', 'value': 0.3, 'mae': 646593.6085612217}\n",
      "{'params': 'learning_rate', 'value': 0.5, 'mae': 672225.4474124466}\n",
      "          params  value            mae\n",
      "0  learning_rate   0.01  783345.016523\n",
      "1  learning_rate   0.03  684105.651288\n",
      "2  learning_rate   0.05  656666.251879\n",
      "3  learning_rate   0.10  638841.232732\n",
      "4  learning_rate   0.30  646593.608561\n",
      "5  learning_rate   0.50  672225.447412\n",
      "{'thread_count': 8, 'random_seed': 241, 'loss_function': 'MAE', 'iterations': 2000, 'silent': True, 'learning_rate': 0.1}\n"
     ]
    },
    {
     "data": {
      "image/png": "[encoded data removed]",
      "text/plain": [
       "<Figure size 432x288 with 1 Axes>"
      ]
     },
     "metadata": {
      "needs_background": "light"
     },
     "output_type": "display_data"
    },
    {
     "name": "stdout",
     "output_type": "stream",
     "text": [
      "{'params': 'max_depth', 'value': 2, 'mae': 791704.5383758026}\n",
      "{'params': 'max_depth', 'value': 3, 'mae': 714977.5272519973}\n",
      "{'params': 'max_depth', 'value': 4, 'mae': 672510.8140402583}\n",
      "{'params': 'max_depth', 'value': 6, 'mae': 638841.2327315675}\n",
      "{'params': 'max_depth', 'value': 7, 'mae': 635066.1484030446}\n",
      "{'params': 'max_depth', 'value': 9, 'mae': 654460.8241915451}\n",
      "       params  value            mae\n",
      "6   max_depth    2.0  791704.538376\n",
      "7   max_depth    3.0  714977.527252\n",
      "8   max_depth    4.0  672510.814040\n",
      "9   max_depth    6.0  638841.232732\n",
      "10  max_depth    7.0  635066.148403\n",
      "11  max_depth    9.0  654460.824192\n",
      "{'thread_count': 8, 'random_seed': 241, 'loss_function': 'MAE', 'iterations': 2000, 'silent': True, 'learning_rate': 0.1, 'max_depth': 7.0}\n"
     ]
    },
    {
     "data": {
      "image/png": "[encoded data removed]",
      "text/plain": [
       "<Figure size 432x288 with 1 Axes>"
      ]
     },
     "metadata": {
      "needs_background": "light"
     },
     "output_type": "display_data"
    },
    {
     "name": "stdout",
     "output_type": "stream",
     "text": [
      "{'params': 'subsample', 'value': 0.7, 'mae': 641768.3112795467}\n",
      "{'params': 'subsample', 'value': 0.8, 'mae': 635066.1484030446}\n",
      "{'params': 'subsample', 'value': 0.9, 'mae': 636202.189770394}\n",
      "{'params': 'subsample', 'value': 1, 'mae': 635988.4004569559}\n",
      "       params  value            mae\n",
      "12  subsample    0.7  641768.311280\n",
      "13  subsample    0.8  635066.148403\n",
      "14  subsample    0.9  636202.189770\n",
      "15  subsample    1.0  635988.400457\n",
      "{'thread_count': 8, 'random_seed': 241, 'loss_function': 'MAE', 'iterations': 2000, 'silent': True, 'learning_rate': 0.1, 'max_depth': 7.0, 'subsample': 0.8}\n"
     ]
    },
    {
     "data": {
      "image/png": "[encoded data removed]",
      "text/plain": [
       "<Figure size 432x288 with 1 Axes>"
      ]
     },
     "metadata": {
      "needs_background": "light"
     },
     "output_type": "display_data"
    }
   ],
   "source": [
    "best_params, min_mae = ct_params_proc()"
   ]
  },
  {
   "cell_type": "code",
   "execution_count": 32,
   "metadata": {},
   "outputs": [
    {
     "data": {
      "text/plain": [
       "({'thread_count': 8,\n",
       "  'random_seed': 241,\n",
       "  'loss_function': 'MAE',\n",
       "  'iterations': 2000,\n",
       "  'silent': True,\n",
       "  'learning_rate': 0.1,\n",
       "  'max_depth': 7.0,\n",
       "  'subsample': 0.8},\n",
       " 635066.1484030446)"
      ]
     },
     "execution_count": 32,
     "metadata": {},
     "output_type": "execute_result"
    }
   ],
   "source": [
    "best_params, min_mae"
   ]
  },
  {
   "cell_type": "markdown",
   "metadata": {},
   "source": [
    "# Subm"
   ]
  },
  {
   "cell_type": "code",
   "execution_count": 33,
   "metadata": {},
   "outputs": [
    {
     "data": {
      "text/html": [
       "<div>\n",
       "<style scoped>\n",
       "    .dataframe tbody tr th:only-of-type {\n",
       "        vertical-align: middle;\n",
       "    }\n",
       "\n",
       "    .dataframe tbody tr th {\n",
       "        vertical-align: top;\n",
       "    }\n",
       "\n",
       "    .dataframe thead th {\n",
       "        text-align: right;\n",
       "    }\n",
       "</style>\n",
       "<table border=\"1\" class=\"dataframe\">\n",
       "  <thead>\n",
       "    <tr style=\"text-align: right;\">\n",
       "      <th></th>\n",
       "      <th>id</th>\n",
       "      <th>date</th>\n",
       "      <th>street_id</th>\n",
       "      <th>build_tech</th>\n",
       "      <th>floor</th>\n",
       "      <th>area</th>\n",
       "      <th>rooms</th>\n",
       "      <th>balcon</th>\n",
       "      <th>metro_dist</th>\n",
       "      <th>g_lift</th>\n",
       "      <th>n_photos</th>\n",
       "      <th>kw1</th>\n",
       "      <th>kw2</th>\n",
       "      <th>kw3</th>\n",
       "      <th>kw4</th>\n",
       "      <th>kw5</th>\n",
       "      <th>kw6</th>\n",
       "      <th>kw7</th>\n",
       "      <th>kw8</th>\n",
       "      <th>kw9</th>\n",
       "      <th>kw10</th>\n",
       "      <th>kw11</th>\n",
       "      <th>kw12</th>\n",
       "      <th>kw13</th>\n",
       "      <th>year</th>\n",
       "      <th>month</th>\n",
       "    </tr>\n",
       "  </thead>\n",
       "  <tbody>\n",
       "    <tr>\n",
       "      <th>0</th>\n",
       "      <td>100000</td>\n",
       "      <td>2012-3</td>\n",
       "      <td>422</td>\n",
       "      <td>0</td>\n",
       "      <td>1</td>\n",
       "      <td>59</td>\n",
       "      <td>3</td>\n",
       "      <td>0</td>\n",
       "      <td>25.0</td>\n",
       "      <td>0.0</td>\n",
       "      <td>1</td>\n",
       "      <td>0</td>\n",
       "      <td>1</td>\n",
       "      <td>0</td>\n",
       "      <td>0</td>\n",
       "      <td>0</td>\n",
       "      <td>0</td>\n",
       "      <td>0</td>\n",
       "      <td>0</td>\n",
       "      <td>0</td>\n",
       "      <td>0</td>\n",
       "      <td>0</td>\n",
       "      <td>0</td>\n",
       "      <td>0</td>\n",
       "      <td>2012</td>\n",
       "      <td>3</td>\n",
       "    </tr>\n",
       "    <tr>\n",
       "      <th>1</th>\n",
       "      <td>100001</td>\n",
       "      <td>2012-3</td>\n",
       "      <td>380</td>\n",
       "      <td>0</td>\n",
       "      <td>10</td>\n",
       "      <td>58</td>\n",
       "      <td>2</td>\n",
       "      <td>0</td>\n",
       "      <td>25.0</td>\n",
       "      <td>0.0</td>\n",
       "      <td>4</td>\n",
       "      <td>0</td>\n",
       "      <td>1</td>\n",
       "      <td>0</td>\n",
       "      <td>0</td>\n",
       "      <td>0</td>\n",
       "      <td>0</td>\n",
       "      <td>1</td>\n",
       "      <td>0</td>\n",
       "      <td>0</td>\n",
       "      <td>0</td>\n",
       "      <td>0</td>\n",
       "      <td>0</td>\n",
       "      <td>0</td>\n",
       "      <td>2012</td>\n",
       "      <td>3</td>\n",
       "    </tr>\n",
       "    <tr>\n",
       "      <th>2</th>\n",
       "      <td>100002</td>\n",
       "      <td>2012-3</td>\n",
       "      <td>362</td>\n",
       "      <td>1</td>\n",
       "      <td>3</td>\n",
       "      <td>54</td>\n",
       "      <td>2</td>\n",
       "      <td>0</td>\n",
       "      <td>10.0</td>\n",
       "      <td>0.0</td>\n",
       "      <td>2</td>\n",
       "      <td>0</td>\n",
       "      <td>1</td>\n",
       "      <td>0</td>\n",
       "      <td>0</td>\n",
       "      <td>0</td>\n",
       "      <td>0</td>\n",
       "      <td>0</td>\n",
       "      <td>0</td>\n",
       "      <td>0</td>\n",
       "      <td>0</td>\n",
       "      <td>0</td>\n",
       "      <td>0</td>\n",
       "      <td>0</td>\n",
       "      <td>2012</td>\n",
       "      <td>3</td>\n",
       "    </tr>\n",
       "    <tr>\n",
       "      <th>3</th>\n",
       "      <td>100003</td>\n",
       "      <td>2012-3</td>\n",
       "      <td>34</td>\n",
       "      <td>0</td>\n",
       "      <td>4</td>\n",
       "      <td>35</td>\n",
       "      <td>1</td>\n",
       "      <td>0</td>\n",
       "      <td>25.0</td>\n",
       "      <td>1.0</td>\n",
       "      <td>0</td>\n",
       "      <td>0</td>\n",
       "      <td>0</td>\n",
       "      <td>0</td>\n",
       "      <td>0</td>\n",
       "      <td>0</td>\n",
       "      <td>0</td>\n",
       "      <td>0</td>\n",
       "      <td>0</td>\n",
       "      <td>0</td>\n",
       "      <td>0</td>\n",
       "      <td>0</td>\n",
       "      <td>0</td>\n",
       "      <td>0</td>\n",
       "      <td>2012</td>\n",
       "      <td>3</td>\n",
       "    </tr>\n",
       "    <tr>\n",
       "      <th>4</th>\n",
       "      <td>100004</td>\n",
       "      <td>2012-3</td>\n",
       "      <td>562</td>\n",
       "      <td>0</td>\n",
       "      <td>4</td>\n",
       "      <td>56</td>\n",
       "      <td>3</td>\n",
       "      <td>0</td>\n",
       "      <td>30.0</td>\n",
       "      <td>0.0</td>\n",
       "      <td>2</td>\n",
       "      <td>0</td>\n",
       "      <td>1</td>\n",
       "      <td>0</td>\n",
       "      <td>0</td>\n",
       "      <td>0</td>\n",
       "      <td>0</td>\n",
       "      <td>0</td>\n",
       "      <td>0</td>\n",
       "      <td>0</td>\n",
       "      <td>0</td>\n",
       "      <td>0</td>\n",
       "      <td>0</td>\n",
       "      <td>0</td>\n",
       "      <td>2012</td>\n",
       "      <td>3</td>\n",
       "    </tr>\n",
       "  </tbody>\n",
       "</table>\n",
       "</div>"
      ],
      "text/plain": [
       "       id    date  street_id  build_tech  floor  area  rooms  balcon  \\\n",
       "0  100000  2012-3        422           0      1    59      3       0   \n",
       "1  100001  2012-3        380           0     10    58      2       0   \n",
       "2  100002  2012-3        362           1      3    54      2       0   \n",
       "3  100003  2012-3         34           0      4    35      1       0   \n",
       "4  100004  2012-3        562           0      4    56      3       0   \n",
       "\n",
       "   metro_dist  g_lift  n_photos  kw1  kw2  kw3  kw4  kw5  kw6  kw7  kw8  kw9  \\\n",
       "0        25.0     0.0         1    0    1    0    0    0    0    0    0    0   \n",
       "1        25.0     0.0         4    0    1    0    0    0    0    1    0    0   \n",
       "2        10.0     0.0         2    0    1    0    0    0    0    0    0    0   \n",
       "3        25.0     1.0         0    0    0    0    0    0    0    0    0    0   \n",
       "4        30.0     0.0         2    0    1    0    0    0    0    0    0    0   \n",
       "\n",
       "   kw10  kw11  kw12  kw13  year  month  \n",
       "0     0     0     0     0  2012      3  \n",
       "1     0     0     0     0  2012      3  \n",
       "2     0     0     0     0  2012      3  \n",
       "3     0     0     0     0  2012      3  \n",
       "4     0     0     0     0  2012      3  "
      ]
     },
     "execution_count": 33,
     "metadata": {},
     "output_type": "execute_result"
    }
   ],
   "source": [
    "test = pd.read_csv('Test.csv', sep=',')\n",
    "test['year'] = test['date'].map(lambda x: x[:4])\n",
    "test['month'] = test['date'].map(lambda x: abs(int(x[-2:])))\n",
    "test=test.fillna(test.median())\n",
    "test['build_tech'] = test['build_tech'].astype(int)\n",
    "test.head()"
   ]
  },
  {
   "cell_type": "code",
   "execution_count": 34,
   "metadata": {},
   "outputs": [],
   "source": [
    "model = CatBoostRegressor(**best_params)\n",
    "model = model.fit(train[features], train['price'], cat_features=cat_features)"
   ]
  },
  {
   "cell_type": "code",
   "execution_count": 35,
   "metadata": {},
   "outputs": [],
   "source": [
    "test['subm_pred'] = model.predict(test[features])"
   ]
  },
  {
   "cell_type": "code",
   "execution_count": 36,
   "metadata": {},
   "outputs": [],
   "source": [
    "subm = pd.DataFrame(test[['id', 'subm_pred']])\n",
    "subm.columns = ['id', 'price']\n",
    "subm.to_csv('last_subm.csv', index=False)"
   ]
  }
 ],
 "metadata": {
  "kernelspec": {
   "display_name": "Python 3",
   "language": "python",
   "name": "python3"
  },
  "language_info": {
   "codemirror_mode": {
    "name": "ipython",
    "version": 3
   },
   "file_extension": ".py",
   "mimetype": "text/x-python",
   "name": "python",
   "nbconvert_exporter": "python",
   "pygments_lexer": "ipython3",
   "version": "3.8.3"
  }
 },
 "nbformat": 4,
 "nbformat_minor": 2
}
